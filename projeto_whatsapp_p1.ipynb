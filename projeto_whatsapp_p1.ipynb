{
  "nbformat": 4,
  "nbformat_minor": 0,
  "metadata": {
    "colab": {
      "provenance": [],
      "authorship_tag": "ABX9TyO4LYD8jnOJpWv70RI2vgEM",
      "include_colab_link": true
    },
    "kernelspec": {
      "name": "python3",
      "display_name": "Python 3"
    },
    "language_info": {
      "name": "python"
    }
  },
  "cells": [
    {
      "cell_type": "markdown",
      "metadata": {
        "id": "view-in-github",
        "colab_type": "text"
      },
      "source": [
        "<a href=\"https://colab.research.google.com/github/mmtaha/Projeto_Python_Transcri-o_de_Conversa_Whatssapp/blob/main/projeto_whatsapp_p1.ipynb\" target=\"_parent\"><img src=\"https://colab.research.google.com/assets/colab-badge.svg\" alt=\"Open In Colab\"/></a>"
      ]
    },
    {
      "cell_type": "code",
      "source": [
        "import os, re, zipfile\n",
        "import pandas as pd\n",
        "from datetime import datetime\n",
        "from docx import Document\n",
        "from pydub import AudioSegment\n",
        "import speech_recognition as sr\n",
        "\n",
        "# --- Etapa 1: Ler o documento DOCX com a cronologia da conversa ---\n",
        "docx_path = \"/mnt/data/Historico_Conversas_Remilson_Com_Audios.docx\"\n",
        "doc = Document(docx_path)\n",
        "text_content = [para.text for para in doc.paragraphs if para.text.strip()]\n",
        "\n",
        "# --- Etapa 2: Extrair e organizar as mensagens em um DataFrame ---\n",
        "messages = []\n",
        "current_date = None\n",
        "for line in text_content:\n",
        "    # Se a linha inicia com uma data (ex: \"02/02/2024 - Outros assuntos\")\n",
        "    if re.match(r\"\\d{2}/\\d{2}/\\d{4}\", line):\n",
        "        current_date = line.split(\" - \")[0].strip()\n",
        "    # Se a linha inicia com o horário em negrito (ex: \"**08:53** - Remilson Marceneiro: ...\")\n",
        "    elif re.match(r\"\\*\\*\\d{2}:\\d{2}\\*\\*\", line):\n",
        "        parts = line.split(\" - \")\n",
        "        if len(parts) >= 2:\n",
        "            time = parts[0].replace(\"**\", \"\").strip()\n",
        "            # Se existir separador \": \" para separar remetente e mensagem\n",
        "            if \": \" in \" - \".join(parts[1:]):\n",
        "                sender, message = \" - \".join(parts[1:]).split(\": \", 1)\n",
        "            else:\n",
        "                sender = \"Desconhecido\"\n",
        "                message = \" - \".join(parts[1:])\n",
        "            timestamp_str = f\"{current_date} {time}\"\n",
        "            try:\n",
        "                timestamp = datetime.strptime(timestamp_str, \"%d/%m/%Y %H:%M\")\n",
        "            except Exception as e:\n",
        "                continue\n",
        "            messages.append({\"timestamp\": timestamp, \"sender\": sender.strip(), \"message\": message.strip()})\n",
        "\n",
        "df_messages = pd.DataFrame(messages)\n",
        "df_messages = df_messages.sort_values(by=\"timestamp\")\n",
        "\n",
        "# --- Etapa 3: Identificar os arquivos de áudio (.opus) mencionados na conversa ---\n",
        "audio_files_mentioned = df_messages[df_messages[\"message\"].str.contains(\".opus\", na=False)][\"message\"].str.extract(r\"(PTT-\\d{8}-WA\\d+\\.opus)\")[0].dropna().unique()\n",
        "\n",
        "# --- Etapa 4: Verificar quais arquivos .opus estão disponíveis na pasta extraída ---\n",
        "# A pasta onde o ZIP com os áudios foi extraído (ajuste se necessário)\n",
        "extract_folder = \"/mnt/data/chat_extracted\"\n",
        "available_opus_files = [f for f in os.listdir(extract_folder) if f.endswith(\".opus\")]\n",
        "audio_files_to_process = list(set(audio_files_mentioned) & set(available_opus_files))\n",
        "print(\"Áudios a processar:\", audio_files_to_process)\n",
        "\n",
        "# --- Etapa 5: Converter arquivos OPUS para WAV com fallback (tenta 'opus' e, se falhar, 'ogg') ---\n",
        "wav_folder = os.path.join(extract_folder, \"wav_files\")\n",
        "os.makedirs(wav_folder, exist_ok=True)\n",
        "\n",
        "def convert_opus_to_wav(opus_path, wav_path):\n",
        "    try:\n",
        "        # Tenta ler como formato \"opus\"\n",
        "        audio = AudioSegment.from_file(opus_path, format=\"opus\")\n",
        "    except Exception as e:\n",
        "        print(f\"Erro convertendo {opus_path} com format 'opus': {e}. Tentando 'ogg'...\")\n",
        "        try:\n",
        "            audio = AudioSegment.from_file(opus_path, format=\"ogg\")\n",
        "        except Exception as e2:\n",
        "            print(f\"Erro convertendo {opus_path} com format 'ogg': {e2}\")\n",
        "            return None\n",
        "    audio.export(wav_path, format=\"wav\")\n",
        "    return wav_path\n",
        "\n",
        "audio_transcriptions = {}\n",
        "for af in audio_files_to_process:\n",
        "    opus_path = os.path.join(extract_folder, af)\n",
        "    wav_path = os.path.join(wav_folder, af.replace(\".opus\", \".wav\"))\n",
        "    converted = convert_opus_to_wav(opus_path, wav_path)\n",
        "    if converted:\n",
        "        # --- Etapa 6: Transcrever o áudio usando speech_recognition (Google API, pt-BR) ---\n",
        "        recognizer = sr.Recognizer()\n",
        "        try:\n",
        "            with sr.AudioFile(converted) as source:\n",
        "                audio_data = recognizer.record(source)\n",
        "                transcription = recognizer.recognize_google(audio_data, language=\"pt-BR\")\n",
        "                audio_transcriptions[af] = transcription\n",
        "                print(f\"Transcrito {af}: {transcription}\")\n",
        "        except Exception as e:\n",
        "            print(f\"Erro na transcrição de {af}: {e}\")\n",
        "            audio_transcriptions[af] = \"[Erro na transcrição]\"\n",
        "\n",
        "# --- Etapa 7: Incorporar as transcrições nas mensagens ---\n",
        "def append_transcription(message):\n",
        "    match = re.search(r\"(PTT-\\d{8}-WA\\d+\\.opus)\", message)\n",
        "    if match:\n",
        "        file_name = match.group(1)\n",
        "        transcription = audio_transcriptions.get(file_name, \"[Áudio não disponível]\")\n",
        "        return f\"{message} - Transcrição: {transcription}\"\n",
        "    return message\n",
        "\n",
        "df_messages[\"message\"] = df_messages[\"message\"].apply(append_transcription)\n",
        "\n",
        "# --- Etapa 8: Salvar a conversa completa em um arquivo CSV ---\n",
        "output_csv = \"/mnt/data/conversa_transcrita.csv\"\n",
        "df_messages.to_csv(output_csv, index=False, encoding=\"utf-8-sig\")\n",
        "print(f\"Conversas transcritas e salvas em: {output_csv}\")\n"
      ],
      "metadata": {
        "id": "zMnAQk2FlC08",
        "outputId": "14ab31c9-eed2-427b-a343-5e307ee19c83",
        "colab": {
          "base_uri": "https://localhost:8080/",
          "height": 412
        }
      },
      "execution_count": null,
      "outputs": [
        {
          "output_type": "error",
          "ename": "ModuleNotFoundError",
          "evalue": "No module named 'docx'",
          "traceback": [
            "\u001b[0;31m---------------------------------------------------------------------------\u001b[0m",
            "\u001b[0;31mModuleNotFoundError\u001b[0m                       Traceback (most recent call last)",
            "\u001b[0;32m<ipython-input-4-7e3d6bc8bf95>\u001b[0m in \u001b[0;36m<cell line: 0>\u001b[0;34m()\u001b[0m\n\u001b[1;32m      2\u001b[0m \u001b[0;32mimport\u001b[0m \u001b[0mpandas\u001b[0m \u001b[0;32mas\u001b[0m \u001b[0mpd\u001b[0m\u001b[0;34m\u001b[0m\u001b[0;34m\u001b[0m\u001b[0m\n\u001b[1;32m      3\u001b[0m \u001b[0;32mfrom\u001b[0m \u001b[0mdatetime\u001b[0m \u001b[0;32mimport\u001b[0m \u001b[0mdatetime\u001b[0m\u001b[0;34m\u001b[0m\u001b[0;34m\u001b[0m\u001b[0m\n\u001b[0;32m----> 4\u001b[0;31m \u001b[0;32mfrom\u001b[0m \u001b[0mdocx\u001b[0m \u001b[0;32mimport\u001b[0m \u001b[0mDocument\u001b[0m\u001b[0;34m\u001b[0m\u001b[0;34m\u001b[0m\u001b[0m\n\u001b[0m\u001b[1;32m      5\u001b[0m \u001b[0;32mfrom\u001b[0m \u001b[0mpydub\u001b[0m \u001b[0;32mimport\u001b[0m \u001b[0mAudioSegment\u001b[0m\u001b[0;34m\u001b[0m\u001b[0;34m\u001b[0m\u001b[0m\n\u001b[1;32m      6\u001b[0m \u001b[0;32mimport\u001b[0m \u001b[0mspeech_recognition\u001b[0m \u001b[0;32mas\u001b[0m \u001b[0msr\u001b[0m\u001b[0;34m\u001b[0m\u001b[0;34m\u001b[0m\u001b[0m\n",
            "\u001b[0;31mModuleNotFoundError\u001b[0m: No module named 'docx'",
            "",
            "\u001b[0;31m---------------------------------------------------------------------------\u001b[0;32m\nNOTE: If your import is failing due to a missing package, you can\nmanually install dependencies using either !pip or !apt.\n\nTo view examples of installing some common dependencies, click the\n\"Open Examples\" button below.\n\u001b[0;31m---------------------------------------------------------------------------\u001b[0m\n"
          ],
          "errorDetails": {
            "actions": [
              {
                "action": "open_url",
                "actionText": "Open Examples",
                "url": "/notebooks/snippets/importing_libraries.ipynb"
              }
            ]
          }
        }
      ]
    }
  ]
}